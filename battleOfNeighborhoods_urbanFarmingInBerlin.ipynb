{
 "cells": [
  {
   "cell_type": "markdown",
   "metadata": {},
   "source": [
    "# Capstone project: <br>Battle of neighborhoods: Urban farming in Berlin"
   ]
  },
  {
   "cell_type": "markdown",
   "metadata": {},
   "source": [
    "### Introduction / Business problem\n",
    "A client from Berlin is aiming to set up urban farming facilities around the city to provide fresh vegetables and herbs to local venues. The business motivation is to maintain a fresh source of ingridients for local restaurants, reduce costs and environmental pollution due to logistics and promote a self-sustaining local community.\n",
    "<br><br>\n",
    "\n",
    "For this project, a couple of assumptions will be made:\n",
    "- the client already did previous consultations on whether such a business is sustainable and profitable.\n",
    "- the farms (facilities) are big and sophisticated enough to grow and provide plants for several venues (growing in layers with fully optimized conditions), but small enough to fit into an urban area e.g. 6 x 10 x 3 meters.\n",
    "- the facilities will either be built into existing infrastracture (renting space around the town) or will be assembled separately (looking like cool high-tech ship containers). Once a suitable location is found, we assume there is enough renting space and the costs are also considered.\n",
    "- the grown plants i.e. produced ingridients will be transported to the venues by an environmentally friendly form of transportation e.g. bicycles.\n",
    "- each farm can supply 15-20 venues (depending on how often they are operating and how good they are visited) and cover an area with a radius of two kilometers.\n",
    "- the client is ready to invest in 10 facilities for now.\n",
    "<br><br>\n",
    "\n",
    "The questions we want to address are:\n",
    "- which neighborhoods / areas in Berlin are suitable to install the farming facilities\n",
    "- how many farms have to be installed and where to cover the needs of each area (given the above assumptions)\n",
    "- for each identified area, are there any similarities between venues that can be considered while planing the farming\n",
    "<br><br>\n",
    "\n",
    "Further things to consider:\n",
    "- the assumption that one farm can supply 15-20 venues is of course totally arbitrary and just serves for the sake of having some things to deal with. In a real life case, depending on the number of venues one farm has to supply, the size of the facility could be set appropriately. Also, one would have to check the real-life technological capability of such a farm. This is beyond scope of this project. "
   ]
  },
  {
   "cell_type": "markdown",
   "metadata": {},
   "source": [
    "## Data\n",
    "For this project, the following data will be used:\n",
    "- List of neighborhoods in Berlin from Wikipedia and their respective geographical location\n",
    "- Foursquare location data on the venues that provide food requiring some vegetables or herbs.\n",
    "<br><br>\n",
    "\n",
    "For this analysis, the city of Berlin will be divided according to the boroughs (Bezirk) and localities (Neighborhoods) from the Wikipedia article:\n",
    "https://de.wikipedia.org/wiki/Liste_der_Bezirke_und_Ortsteile_Berlins"
   ]
  },
  {
   "cell_type": "code",
   "execution_count": 46,
   "metadata": {},
   "outputs": [],
   "source": [
    "import numpy as np\n",
    "import pandas as pd\n",
    "import json\n",
    "import folium\n",
    "import requests\n",
    "from geopy.geocoders import Nominatim\n",
    "from pandas.io.json import json_normalize\n",
    "import geocoder # import geocoder"
   ]
  },
  {
   "cell_type": "code",
   "execution_count": null,
   "metadata": {},
   "outputs": [],
   "source": [
    "url = \"https://de.wikipedia.org/wiki/Liste_der_Bezirke_und_Ortsteile_Berlins\"\n",
    "\n",
    "df = pd.read_html(url, header=0)[2]\n",
    "df = df[[\"Ortsteil\", \"Bezirk\"]]\n",
    "\n",
    "# Getting the location for each locality\n",
    "geolocator = Nominatim(user_agent=\"tor_explorer\")\n",
    "for index, row in df.iterrows():\n",
    "    location = geolocator.geocode(row[\"Ortsteil\"])\n",
    "    df.at[index, \"Long\"] = location.longitude\n",
    "    df.at[index, \"Lat\"] = location.latitude"
   ]
  },
  {
   "cell_type": "code",
   "execution_count": 110,
   "metadata": {},
   "outputs": [
    {
     "data": {
      "text/html": [
       "<div>\n",
       "<style scoped>\n",
       "    .dataframe tbody tr th:only-of-type {\n",
       "        vertical-align: middle;\n",
       "    }\n",
       "\n",
       "    .dataframe tbody tr th {\n",
       "        vertical-align: top;\n",
       "    }\n",
       "\n",
       "    .dataframe thead th {\n",
       "        text-align: right;\n",
       "    }\n",
       "</style>\n",
       "<table border=\"1\" class=\"dataframe\">\n",
       "  <thead>\n",
       "    <tr style=\"text-align: right;\">\n",
       "      <th></th>\n",
       "      <th>Ortsteil</th>\n",
       "      <th>Bezirk</th>\n",
       "      <th>Long</th>\n",
       "      <th>Lat</th>\n",
       "    </tr>\n",
       "  </thead>\n",
       "  <tbody>\n",
       "    <tr>\n",
       "      <th>0</th>\n",
       "      <td>Mitte</td>\n",
       "      <td>Mitte</td>\n",
       "      <td>13.402376</td>\n",
       "      <td>52.517690</td>\n",
       "    </tr>\n",
       "    <tr>\n",
       "      <th>1</th>\n",
       "      <td>Moabit</td>\n",
       "      <td>Mitte</td>\n",
       "      <td>13.342542</td>\n",
       "      <td>52.530102</td>\n",
       "    </tr>\n",
       "    <tr>\n",
       "      <th>2</th>\n",
       "      <td>Hansaviertel</td>\n",
       "      <td>Mitte</td>\n",
       "      <td>13.341872</td>\n",
       "      <td>52.519123</td>\n",
       "    </tr>\n",
       "    <tr>\n",
       "      <th>3</th>\n",
       "      <td>Tiergarten</td>\n",
       "      <td>Mitte</td>\n",
       "      <td>13.357260</td>\n",
       "      <td>52.509778</td>\n",
       "    </tr>\n",
       "    <tr>\n",
       "      <th>4</th>\n",
       "      <td>Wedding</td>\n",
       "      <td>Mitte</td>\n",
       "      <td>13.341970</td>\n",
       "      <td>52.550123</td>\n",
       "    </tr>\n",
       "  </tbody>\n",
       "</table>\n",
       "</div>"
      ],
      "text/plain": [
       "       Ortsteil Bezirk       Long        Lat\n",
       "0         Mitte  Mitte  13.402376  52.517690\n",
       "1        Moabit  Mitte  13.342542  52.530102\n",
       "2  Hansaviertel  Mitte  13.341872  52.519123\n",
       "3    Tiergarten  Mitte  13.357260  52.509778\n",
       "4       Wedding  Mitte  13.341970  52.550123"
      ]
     },
     "execution_count": 110,
     "metadata": {},
     "output_type": "execute_result"
    }
   ],
   "source": [
    "df.head()"
   ]
  },
  {
   "cell_type": "markdown",
   "metadata": {},
   "source": [
    "Example of Forsquare venues for the *Moabit* in Berlin"
   ]
  },
  {
   "cell_type": "code",
   "execution_count": 133,
   "metadata": {},
   "outputs": [],
   "source": [
    "CLIENT_ID = '' # your Foursquare ID\n",
    "CLIENT_SECRET = '' # your Foursquare Secret\n",
    "VERSION = '20180605' # Foursquare API version\n",
    "\n",
    "neighborhood_latitude = df.loc[1][\"Lat\"] # neighborhood latitude value\n",
    "neighborhood_longitude =df.loc[1][\"Long\"] # neighborhood longitude value\n",
    "\n",
    "neighborhood_name = \"Moabit\" # neighborhood name\n",
    "LIMIT = 100 # limit of number of venues returned by Foursquare API\n",
    "radius = 500 # define radius\n",
    "url = 'https://api.foursquare.com/v2/venues/explore?&client_id={}&client_secret={}&v={}&ll={},{}&radius={}&limit={}'.format(\n",
    "    CLIENT_ID, \n",
    "    CLIENT_SECRET, \n",
    "    VERSION, \n",
    "    neighborhood_latitude, \n",
    "    neighborhood_longitude, \n",
    "    radius, \n",
    "    LIMIT)\n",
    "\n",
    "# make the GET request\n",
    "results = requests.get(url).json()[\"response\"]['groups'][0]['items']\n",
    "\n",
    "venues_list=[]\n",
    "# return only relevant information for each nearby venue\n",
    "venues_list.append([(\n",
    "    v['venue']['name'], \n",
    "    v['venue']['location']['lat'], \n",
    "    v['venue']['location']['lng'],  \n",
    "    v['venue']['categories'][0]['name']) for v in results])\n",
    "\n",
    "nearby_venues = pd.DataFrame([item for venue_list in venues_list for item in venue_list])\n",
    "nearby_venues.columns = [\n",
    "              'Venue', 'Venue Latitude', 'Venue Longitude', 'Venue Category']\n",
    "\n",
    "nearby_venues.columns = [c.replace(' ', '_') for c in nearby_venues.columns]"
   ]
  },
  {
   "cell_type": "code",
   "execution_count": 135,
   "metadata": {},
   "outputs": [
    {
     "data": {
      "text/html": [
       "<div>\n",
       "<style scoped>\n",
       "    .dataframe tbody tr th:only-of-type {\n",
       "        vertical-align: middle;\n",
       "    }\n",
       "\n",
       "    .dataframe tbody tr th {\n",
       "        vertical-align: top;\n",
       "    }\n",
       "\n",
       "    .dataframe thead th {\n",
       "        text-align: right;\n",
       "    }\n",
       "</style>\n",
       "<table border=\"1\" class=\"dataframe\">\n",
       "  <thead>\n",
       "    <tr style=\"text-align: right;\">\n",
       "      <th></th>\n",
       "      <th>Venue</th>\n",
       "      <th>Venue_Latitude</th>\n",
       "      <th>Venue_Longitude</th>\n",
       "      <th>Venue_Category</th>\n",
       "    </tr>\n",
       "  </thead>\n",
       "  <tbody>\n",
       "    <tr>\n",
       "      <th>0</th>\n",
       "      <td>Delphin Fisch &amp; Steak</td>\n",
       "      <td>52.532330</td>\n",
       "      <td>13.343766</td>\n",
       "      <td>Seafood Restaurant</td>\n",
       "    </tr>\n",
       "    <tr>\n",
       "      <th>1</th>\n",
       "      <td>Alimentari e Vini</td>\n",
       "      <td>52.527793</td>\n",
       "      <td>13.338373</td>\n",
       "      <td>Italian Restaurant</td>\n",
       "    </tr>\n",
       "    <tr>\n",
       "      <th>2</th>\n",
       "      <td>geh Veg</td>\n",
       "      <td>52.532178</td>\n",
       "      <td>13.342044</td>\n",
       "      <td>Vegetarian / Vegan Restaurant</td>\n",
       "    </tr>\n",
       "    <tr>\n",
       "      <th>3</th>\n",
       "      <td>Lichtblick</td>\n",
       "      <td>52.532392</td>\n",
       "      <td>13.341196</td>\n",
       "      <td>Restaurant</td>\n",
       "    </tr>\n",
       "    <tr>\n",
       "      <th>4</th>\n",
       "      <td>Habe die Ehre</td>\n",
       "      <td>52.528024</td>\n",
       "      <td>13.338907</td>\n",
       "      <td>Austrian Restaurant</td>\n",
       "    </tr>\n",
       "  </tbody>\n",
       "</table>\n",
       "</div>"
      ],
      "text/plain": [
       "                   Venue  Venue_Latitude  Venue_Longitude  \\\n",
       "0  Delphin Fisch & Steak       52.532330        13.343766   \n",
       "1      Alimentari e Vini       52.527793        13.338373   \n",
       "2                geh Veg       52.532178        13.342044   \n",
       "3             Lichtblick       52.532392        13.341196   \n",
       "4          Habe die Ehre       52.528024        13.338907   \n",
       "\n",
       "                  Venue_Category  \n",
       "0             Seafood Restaurant  \n",
       "1             Italian Restaurant  \n",
       "2  Vegetarian / Vegan Restaurant  \n",
       "3                     Restaurant  \n",
       "4            Austrian Restaurant  "
      ]
     },
     "execution_count": 135,
     "metadata": {},
     "output_type": "execute_result"
    }
   ],
   "source": [
    "# Here I am filtering for all entries with Restaurant in the Venue Category\n",
    "# A more extensive list of food providing venues will be considered in the analysis\n",
    "nearby_venues = nearby_venues[nearby_venues.Venue_Category.str.contains('Restaurant')].reset_index(drop=True)\n",
    "nearby_venues.head()"
   ]
  }
 ],
 "metadata": {
  "kernelspec": {
   "display_name": "Python 3",
   "language": "python",
   "name": "python3"
  },
  "language_info": {
   "codemirror_mode": {
    "name": "ipython",
    "version": 3
   },
   "file_extension": ".py",
   "mimetype": "text/x-python",
   "name": "python",
   "nbconvert_exporter": "python",
   "pygments_lexer": "ipython3",
   "version": "3.6.8"
  },
  "toc": {
   "base_numbering": 1,
   "nav_menu": {
    "height": "65px",
    "width": "175px"
   },
   "number_sections": true,
   "sideBar": true,
   "skip_h1_title": false,
   "title_cell": "Table of Contents",
   "title_sidebar": "Contents",
   "toc_cell": false,
   "toc_position": {},
   "toc_section_display": true,
   "toc_window_display": false
  }
 },
 "nbformat": 4,
 "nbformat_minor": 2
}
