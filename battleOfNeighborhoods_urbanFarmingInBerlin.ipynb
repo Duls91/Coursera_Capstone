{
 "cells": [
  {
   "cell_type": "markdown",
   "metadata": {},
   "source": [
    "# Capstone project: <br>Battle of neighborhoods: Urban farming in Berlin"
   ]
  },
  {
   "cell_type": "markdown",
   "metadata": {},
   "source": [
    "### Introduction / Business problem\n",
    "A client from Berlin is aiming to set up urban farming facilities around the city to provide fresh vegetables and herbs to local venues. The business motivation is to maintain a fresh source of ingridients for local restaurants, reduce costs and environmental pollution due to logistics and promote a self-sustaining local community.\n",
    "<br><br>\n",
    "\n",
    "For this project, a couple of assumptions will be made:\n",
    "- the client already did previous consultations on whether such a business is sustainable and profitable.\n",
    "- the farms (facilities) are big and sophisticated enough to grow and provide plants for several venues (growing in layers with fully optimized conditions), but small enough to fit into an urban area e.g. 6 x 10 x 3 meters.\n",
    "- the facilities will either be built into existing infrastracture (renting space around the town) or will be assembled separately (looking like cool high-tech ship containers). Once a suitable location is found, we assume there is enough renting space and the costs are also considered.\n",
    "- the grown plants i.e. produced ingridients will be transported to the venues by an environmentally friendly form of transportation e.g. bicycles.\n",
    "- each farm can supply 15-20 venues (depending on how often they are operating and how good they are visited) and cover an area with a radius of two kilometers.\n",
    "- the client is ready to invest in 5 facilities for now.\n",
    "<br><br>\n",
    "\n",
    "The questions we want to address are:\n",
    "- which neighborhoods / areas in Berlin are suitable to install the farming facilities\n",
    "- how many farms have to be installed and where to cover the needs of each area (given the above assumptions)\n",
    "- for each identified area, are there any similarities between venues that can be considered while planing the farming\n",
    "<br><br>\n",
    "\n",
    "Further things to consider:\n",
    "- the assumption was that one farm can supply 15-20 venues. This is of course arbitrary and just serves for the sake of having some things to deal with. In a real life case, depending on the number of venues one farm has to supply, the size of the facility could be set appropriately. This is beyond scope of this project. "
   ]
  },
  {
   "cell_type": "markdown",
   "metadata": {},
   "source": [
    "## Data\n",
    "For this project, the following data will be used:\n",
    "- List of neighborhoods in Berlin from Wikipedia and their respective geographical location\n",
    "- Foursquare location data on the venues that provide any type of food requiring some vegetables or herbs (restaurants, fast food, salad bars, bakeries etc.)"
   ]
  }
 ],
 "metadata": {
  "kernelspec": {
   "display_name": "Python 3",
   "language": "python",
   "name": "python3"
  },
  "language_info": {
   "codemirror_mode": {
    "name": "ipython",
    "version": 3
   },
   "file_extension": ".py",
   "mimetype": "text/x-python",
   "name": "python",
   "nbconvert_exporter": "python",
   "pygments_lexer": "ipython3",
   "version": "3.6.8"
  },
  "toc": {
   "base_numbering": 1,
   "nav_menu": {
    "height": "65px",
    "width": "175px"
   },
   "number_sections": true,
   "sideBar": true,
   "skip_h1_title": false,
   "title_cell": "Table of Contents",
   "title_sidebar": "Contents",
   "toc_cell": false,
   "toc_position": {},
   "toc_section_display": true,
   "toc_window_display": false
  }
 },
 "nbformat": 4,
 "nbformat_minor": 2
}
